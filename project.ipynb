{
 "cells": [
  {
   "cell_type": "code",
   "execution_count": 4,
   "metadata": {},
   "outputs": [],
   "source": [
    "from PIL import Image"
   ]
  },
  {
   "cell_type": "code",
   "execution_count": 120,
   "metadata": {},
   "outputs": [],
   "source": [
    "im = Image.open(\"10.jpg\")"
   ]
  },
  {
   "cell_type": "code",
   "execution_count": 121,
   "metadata": {},
   "outputs": [],
   "source": [
    "resize = (50,50)\n",
    "im1 = im.resize(resize)"
   ]
  },
  {
   "cell_type": "code",
   "execution_count": 122,
   "metadata": {},
   "outputs": [],
   "source": [
    "im1.show()"
   ]
  },
  {
   "cell_type": "code",
   "execution_count": 5,
   "metadata": {},
   "outputs": [
    {
     "ename": "NameError",
     "evalue": "name 'np' is not defined",
     "output_type": "error",
     "traceback": [
      "\u001b[0;31m---------------------------------------------------------------------------\u001b[0m",
      "\u001b[0;31mNameError\u001b[0m                                 Traceback (most recent call last)",
      "\u001b[0;32m<ipython-input-5-d2f871ba6080>\u001b[0m in \u001b[0;36m<module>\u001b[0;34m\u001b[0m\n\u001b[0;32m----> 1\u001b[0;31m \u001b[0mimage_array\u001b[0m \u001b[0;34m=\u001b[0m \u001b[0mnp\u001b[0m\u001b[0;34m.\u001b[0m\u001b[0marray\u001b[0m\u001b[0;34m(\u001b[0m\u001b[0mim1\u001b[0m\u001b[0;34m)\u001b[0m\u001b[0;34m\u001b[0m\u001b[0;34m\u001b[0m\u001b[0m\n\u001b[0m\u001b[1;32m      2\u001b[0m \u001b[0mimage_array\u001b[0m \u001b[0;34m=\u001b[0m \u001b[0mimage_array\u001b[0m\u001b[0;34m.\u001b[0m\u001b[0mflatten\u001b[0m\u001b[0;34m(\u001b[0m\u001b[0;34m)\u001b[0m\u001b[0;34m\u001b[0m\u001b[0;34m\u001b[0m\u001b[0m\n\u001b[1;32m      3\u001b[0m \u001b[0mimage_array\u001b[0m \u001b[0;34m=\u001b[0m \u001b[0mimage_array\u001b[0m\u001b[0;34m.\u001b[0m\u001b[0mreshape\u001b[0m\u001b[0;34m(\u001b[0m\u001b[0;34m(\u001b[0m\u001b[0;36m50\u001b[0m\u001b[0;34m,\u001b[0m\u001b[0;36m150\u001b[0m\u001b[0;34m)\u001b[0m\u001b[0;34m)\u001b[0m\u001b[0;34m\u001b[0m\u001b[0;34m\u001b[0m\u001b[0m\n\u001b[1;32m      4\u001b[0m \u001b[0mimage_array\u001b[0m \u001b[0;34m=\u001b[0m \u001b[0mnp\u001b[0m\u001b[0;34m.\u001b[0m\u001b[0mtranspose\u001b[0m\u001b[0;34m(\u001b[0m\u001b[0mimage_array\u001b[0m\u001b[0;34m)\u001b[0m\u001b[0;34m\u001b[0m\u001b[0;34m\u001b[0m\u001b[0m\n\u001b[1;32m      5\u001b[0m \u001b[0mu_matrix\u001b[0m\u001b[0;34m,\u001b[0m \u001b[0msigma_mat\u001b[0m\u001b[0;34m,\u001b[0m \u001b[0mV_mat\u001b[0m \u001b[0;34m=\u001b[0m \u001b[0meigenspace_update\u001b[0m\u001b[0;34m(\u001b[0m\u001b[0mimage_array\u001b[0m\u001b[0;34m,\u001b[0m\u001b[0;36m10000\u001b[0m\u001b[0;34m)\u001b[0m\u001b[0;34m\u001b[0m\u001b[0;34m\u001b[0m\u001b[0m\n",
      "\u001b[0;31mNameError\u001b[0m: name 'np' is not defined"
     ]
    }
   ],
   "source": [
    "image_array = np.array(im1)\n",
    "image_array = image_array.flatten()\n",
    "image_array = image_array.reshape((50,150))\n",
    "image_array = np.transpose(image_array)\n",
    "u_matrix, sigma_mat, V_mat = eigenspace_update(image_array,10000)"
   ]
  },
  {
   "cell_type": "code",
   "execution_count": null,
   "metadata": {},
   "outputs": [],
   "source": [
    "print(sigma_mat)"
   ]
  },
  {
   "cell_type": "code",
   "execution_count": null,
   "metadata": {},
   "outputs": [],
   "source": [
    "k_mat = np.dot(u_matrix,np.diag(sigma_mat))\n",
    "g_mat = np.dot(k_mat, np.transpose(V_mat))\n",
    "print(np.shape(g_mat))"
   ]
  },
  {
   "cell_type": "code",
   "execution_count": null,
   "metadata": {},
   "outputs": [],
   "source": [
    "image_out = np.transpose(g_mat)\n",
    "image_out = image_out.flatten()\n",
    "image_out = image_out.astype('uint8')\n",
    "image_out = image_out.reshape((200,200,3))\n",
    "image_final = Image.fromarray(image_out,\"RGB\")\n",
    "image_final.show()"
   ]
  },
  {
   "cell_type": "code",
   "execution_count": null,
   "metadata": {},
   "outputs": [],
   "source": [
    "from numpy import array\n",
    "arr = array(im1)"
   ]
  },
  {
   "cell_type": "code",
   "execution_count": 8,
   "metadata": {
    "tags": []
   },
   "outputs": [],
   "source": [
    "from PIL import Image\n",
    "from numpy import array\n",
    "\n",
    "\n",
    "matr = []\n",
    "for l in range(1,61):\n",
    "    name = str(l)+\".jpg\"\n",
    "    im = Image.open(name)\n",
    "    resize = (50,50)\n",
    "    im1 = im.resize(resize)\n",
    "    arr = array(im1)\n",
    "    ls = []\n",
    "    for i in range(50):\n",
    "        for j in range(50):\n",
    "            for k in range(3):\n",
    "                ls = ls + [arr[i][j][k]]\n",
    "\n",
    "    matr = matr + [ls]\n",
    "    ls = []\n",
    "\n",
    "matrix = array(matr)\n",
    "            \n"
   ]
  },
  {
   "cell_type": "code",
   "execution_count": 6,
   "metadata": {
    "tags": []
   },
   "outputs": [
    {
     "name": "stdout",
     "output_type": "stream",
     "text": [
      "60\n"
     ]
    }
   ],
   "source": [
    "print(len(matrix))"
   ]
  },
  {
   "cell_type": "code",
   "execution_count": 9,
   "metadata": {},
   "outputs": [],
   "source": [
    "import numpy as np\n",
    "mat = np.transpose(matrix)\n"
   ]
  },
  {
   "cell_type": "code",
   "execution_count": 10,
   "metadata": {},
   "outputs": [],
   "source": [
    "file1 = open(\"matrix.txt\",\"w\")\n",
    "for row in mat:\n",
    "    np.savetxt(file1, row)"
   ]
  },
  {
   "cell_type": "code",
   "execution_count": null,
   "metadata": {},
   "outputs": [],
   "source": [
    "file1.close()"
   ]
  },
  {
   "cell_type": "code",
   "execution_count": null,
   "metadata": {},
   "outputs": [],
   "source": [
    "original_mat = np.loadtxt(\"test.txt\").reshape(7500, 50)"
   ]
  },
  {
   "cell_type": "code",
   "execution_count": null,
   "metadata": {},
   "outputs": [],
   "source": [
    "from scipy.linalg import svd "
   ]
  },
  {
   "cell_type": "code",
   "execution_count": null,
   "metadata": {},
   "outputs": [],
   "source": [
    "import numpy as np\n",
    "a = np.array([[],[],[],[]])\n",
    "b = np.array([[1],[2],[3],[4]])\n",
    "c = np.array([[12],[13],[14],[15]])\n",
    "p = np.append(a,c, axis = 1)\n",
    "print(p)"
   ]
  },
  {
   "cell_type": "code",
   "execution_count": null,
   "metadata": {},
   "outputs": [],
   "source": [
    "print(mat)"
   ]
  },
  {
   "cell_type": "code",
   "execution_count": null,
   "metadata": {},
   "outputs": [],
   "source": [
    "from scipy.linalg import svd \n",
    "\n",
    "U,S,VT = svd(mat)"
   ]
  },
  {
   "cell_type": "code",
   "execution_count": null,
   "metadata": {},
   "outputs": [],
   "source": [
    "print(S)"
   ]
  },
  {
   "cell_type": "code",
   "execution_count": 11,
   "metadata": {},
   "outputs": [
    {
     "name": "stdout",
     "output_type": "stream",
     "text": [
      "163.97940868099977\n",
      "[8.8594133e+04 1.5281856e+04 1.0801630e+04 8.8627656e+03 7.7766562e+03\n",
      " 6.7897939e+03 6.1193882e+03 5.4508784e+03 4.9752095e+03 4.9137417e+03\n",
      " 4.4807974e+03 4.3668374e+03 3.9985684e+03 3.6279194e+03 3.4726138e+03\n",
      " 3.3146958e+03 3.0161919e+03 2.9034802e+03 2.8140059e+03 2.7889214e+03\n",
      " 2.7296660e+03 2.6065103e+03 2.5095403e+03 2.4564900e+03 2.3991213e+03\n",
      " 2.2108740e+03 2.1674043e+03 2.1004863e+03 2.0302041e+03 1.9453177e+03\n",
      " 1.9246665e+03 1.8555626e+03 1.8079976e+03 1.7112654e+03 1.6589653e+03\n",
      " 1.6395140e+03 1.5815172e+03 1.4944078e+03 1.4540752e+03 1.4224319e+03\n",
      " 1.3523241e+03 1.3204441e+03 1.2077485e+03 1.1858167e+03 1.0076651e+03\n",
      " 9.8210394e+02 6.5575659e+02 6.0483636e+02 4.2797699e+02 2.1122484e-02\n",
      " 4.9930420e-03 4.9930420e-03 4.9930420e-03 4.9930420e-03 4.9930420e-03\n",
      " 4.9930420e-03 4.9930420e-03 4.9930420e-03 4.9930420e-03 4.9930420e-03] [[-0.01574526 -0.00650579  0.01604928 ... -0.00279707 -0.00254339\n",
      "  -0.00378482]\n",
      " [-0.01743614 -0.01311855  0.00553444 ... -0.00180238 -0.00442198\n",
      "  -0.00349319]\n",
      " [-0.01841698 -0.01710894 -0.00381143 ... -0.00955414 -0.00979592\n",
      "  -0.00392552]\n",
      " ...\n",
      " [-0.01208886  0.01083876  0.00845297 ...  0.99749506 -0.00212244\n",
      "  -0.00130192]\n",
      " [-0.01283352  0.01035675  0.00514185 ... -0.00201611  0.99791634\n",
      "  -0.00138738]\n",
      " [-0.01357776  0.00936028  0.00111928 ... -0.00125488 -0.00142206\n",
      "   0.99783015]] [[-1.31612986e-01 -1.33824348e-01 -1.33824274e-01 ... -1.13640293e-01\n",
      "  -1.24661706e-01 -1.31838098e-01]\n",
      " [-1.60424322e-01 -1.12515904e-01 -1.12515926e-01 ... -1.93363890e-01\n",
      "  -1.84975013e-01 -1.73677966e-01]\n",
      " [ 2.39642430e-02 -3.37971561e-02 -3.37971300e-02 ...  8.47125649e-02\n",
      "   1.44171491e-01  2.32195128e-02]\n",
      " ...\n",
      " [ 0.00000000e+00 -3.96273546e-02  1.76714528e-02 ...  6.70552254e-08\n",
      "  -4.50422347e-01  0.00000000e+00]\n",
      " [ 0.00000000e+00 -2.28843540e-02  1.25173209e-02 ...  5.96046448e-08\n",
      "  -9.49218571e-02  1.15483999e-07]\n",
      " [ 0.00000000e+00  2.43528336e-02 -3.07794586e-02 ... -4.47034836e-08\n",
      "   3.84360552e-03 -6.70552254e-08]]\n"
     ]
    }
   ],
   "source": [
    "import timeit\n",
    "from scipy.linalg import svd \n",
    "\n",
    "start = timeit.default_timer()\n",
    "for i in range(1,61):\n",
    "    U,S,VT = svd(mat[:,:i])\n",
    "stop = timeit.default_timer()\n",
    "print(stop-start)\n"
   ]
  },
  {
   "cell_type": "code",
   "execution_count": null,
   "metadata": {},
   "outputs": [],
   "source": [
    "print(np.diag(S))"
   ]
  },
  {
   "cell_type": "code",
   "execution_count": null,
   "metadata": {},
   "outputs": [],
   "source": [
    "print(len(mat))"
   ]
  },
  {
   "cell_type": "code",
   "execution_count": null,
   "metadata": {},
   "outputs": [],
   "source": [
    "print(mat[:2])"
   ]
  },
  {
   "cell_type": "code",
   "execution_count": 12,
   "metadata": {},
   "outputs": [],
   "source": [
    "import numpy as np \n",
    "import numpy.linalg as la\n",
    "def new_svd(U,S,V,Ai):\n",
    "    #function to find SVD of B_{i+1}\n",
    "    UT = np.transpose(U)\n",
    "    # Finding projection of Ai in U space\n",
    "\n",
    "    x = np.dot(UT,Ai)    \n",
    "    # Finding projection of Ai perpendicular to U space. no scaling is required as U are normalized\n",
    "    a_p = Ai - np.dot(U,x)\n",
    "    \n",
    "    # normalizing it\n",
    "    if (la.norm(a_p) > 0.5):\n",
    "        a_p = a_p/(la.norm(a_p))\n",
    "        z = np.dot(np.transpose(a_p),Ai)\n",
    "    else:\n",
    "        z = np.array([[0]])\n",
    "\n",
    "    \n",
    "    # creating broken arrow matrix, so we need to create diagonal matrix from S(sigma values)\n",
    "    sigma_i = np.diag(S)\n",
    "    # we need a 0 vector for the last row of broken arrow matrix of the same length as S\n",
    "    ze = np.zeros((1,len(S)))\n",
    "    # stacking x as column to Sigma_i\n",
    "    sh = np.hstack((sigma_i,x))\n",
    "    \n",
    "    # stacking a_p*Ai to zerovector\n",
    "    ze1 = np.hstack((ze,z))\n",
    "    # now doing vertical stack of these two to get brokec arrow matrix\n",
    "    new_B = np.vstack((sh,ze1))\n",
    "    \n",
    "    # now find the SVD of this broken arrow matrix\n",
    "    W, lam, QT = la.svd(new_B)\n",
    "    \n",
    "    Q = np.transpose(QT)\n",
    "    # now we need to find new U, sigma and V\n",
    "    Uk = np.hstack((U,a_p))\n",
    "    # new U is\n",
    "    new_U = np.dot(Uk,W)\n",
    "    \n",
    "    # new sigma\n",
    "    new_S = lam\n",
    "    # For new V, we need to create new 0 column and 0 row\n",
    "    ze_col = np.zeros((len(V),1))\n",
    "    ze_row = np.zeros((1,len(np.transpose(V))))\n",
    "\n",
    "    v_h = np.hstack((V,ze_col))\n",
    "    \n",
    "    mod_V = np.vstack((v_h,np.hstack((ze_row,np.ones((1,1)))))) \n",
    "    # new V\n",
    "    \n",
    "    new_V = np.dot(mod_V,Q)\n",
    "    \n",
    "    return(new_U, new_S,new_V)\n",
    "\n"
   ]
  },
  {
   "cell_type": "code",
   "execution_count": 83,
   "metadata": {},
   "outputs": [],
   "source": [
    "def eigenspace_update(B,ep):\n",
    "    # This function decides how much information to keep and how much to discard \n",
    "    # first we need to find number of images in matrix B, which equals number of columns of B\n",
    "    num = np.shape(B)[1]\n",
    "    \n",
    "    # first image is first column of B\n",
    "    A1 = B[:,0]\n",
    "    # but it is in form of row so we need to convert it in the form of column\n",
    "    A1 = np.reshape(A1,(len(A1),1))\n",
    "    # U1 is just normalised vector of A1\n",
    "    U1 = A1/la.norm(A1)\n",
    "    V1 = np.ones((1,1))\n",
    "    S1 = [la.norm(A1)]\n",
    "    \n",
    "\n",
    "    for i in range(1,num):\n",
    "        Ai = B[:,i]\n",
    "        \n",
    "        A = np.reshape(Ai,(len(Ai),1))\n",
    "        U_next, S_next, V_next = new_svd(U1,S1,V1,A)\n",
    "        \n",
    "\n",
    "\n",
    "        for j in range(len(S_next)):\n",
    "            Uj = U_next[:,:j+1]\n",
    "            \n",
    "            Sj = S_next[:j+1]\n",
    "            Sj = np.diag(Sj)\n",
    "            \n",
    "            Vj = V_next[:,:j+1]\n",
    "            b_pr = np.dot(Uj,Sj)\n",
    "            \n",
    "            Bj = np.dot(b_pr,np.transpose(Vj))\n",
    "            \n",
    "            if la.norm(B[:,:i+1]-Bj) < ep:\n",
    "                break\n",
    "        U1 = U_next[:,:j+1]\n",
    "        S1 = S_next[:j+1]\n",
    "        V1 = V_next[:,:j+1]\n",
    "        \n",
    "    return(U1,S1,V1)\n",
    "\n",
    "\n",
    "\n",
    "\n"
   ]
  },
  {
   "cell_type": "code",
   "execution_count": 143,
   "metadata": {
    "tags": []
   },
   "outputs": [
    {
     "name": "stdout",
     "output_type": "stream",
     "text": [
      "0.1886528629984241\n"
     ]
    }
   ],
   "source": [
    "import timeit\n",
    "start = timeit.default_timer()\n",
    "U,sigma,V = eigenspace_update(mat,50000)\n",
    "stop = timeit.default_timer()\n",
    "print(stop-start)"
   ]
  },
  {
   "cell_type": "code",
   "execution_count": 144,
   "metadata": {},
   "outputs": [
    {
     "name": "stdout",
     "output_type": "stream",
     "text": [
      "1\n"
     ]
    }
   ],
   "source": [
    "print(len(sigma))"
   ]
  },
  {
   "cell_type": "code",
   "execution_count": 145,
   "metadata": {},
   "outputs": [
    {
     "name": "stdout",
     "output_type": "stream",
     "text": [
      "(7500, 60)\n"
     ]
    }
   ],
   "source": [
    "k = np.dot(U,np.diag(sigma))\n",
    "g = np.dot(k, np.transpose(V))\n",
    "print(np.shape(g))"
   ]
  },
  {
   "cell_type": "code",
   "execution_count": 149,
   "metadata": {},
   "outputs": [],
   "source": [
    "\n",
    "vec = g[:,9].astype('uint8')\n",
    "mat_img = vec.reshape((50,50,3))\n",
    "#mat_img1 = vec1.reshape((50,50,3))\n",
    "#print(type(mat_img1),type(mat_img))\n",
    "#print(mat_img1 - mat_img)"
   ]
  },
  {
   "cell_type": "code",
   "execution_count": 150,
   "metadata": {},
   "outputs": [],
   "source": [
    "image = Image.fromarray(mat_img,\"RGB\")"
   ]
  },
  {
   "cell_type": "code",
   "execution_count": 151,
   "metadata": {},
   "outputs": [],
   "source": [
    "image.show()"
   ]
  },
  {
   "cell_type": "code",
   "execution_count": null,
   "metadata": {},
   "outputs": [],
   "source": [
    "print(len(sigma))"
   ]
  },
  {
   "cell_type": "code",
   "execution_count": null,
   "metadata": {},
   "outputs": [],
   "source": [
    "print(la.norm(mat))"
   ]
  },
  {
   "cell_type": "code",
   "execution_count": null,
   "metadata": {},
   "outputs": [],
   "source": [
    "a,b,c = svd(mat)"
   ]
  },
  {
   "cell_type": "code",
   "execution_count": null,
   "metadata": {},
   "outputs": [],
   "source": [
    "#a = a[:,:60]\n",
    "#print(np.shape(c))\n",
    "#k = np.dot(a,np.diag(b))\n",
    "#g = np.dot(k, c)\n",
    "print(b)\n",
    "#print(la.norm(g))"
   ]
  },
  {
   "cell_type": "code",
   "execution_count": 1,
   "metadata": {},
   "outputs": [],
   "source": [
    "import numpy as np\n",
    "import numpy.linalg as la\n",
    "import timeit"
   ]
  },
  {
   "cell_type": "code",
   "execution_count": null,
   "metadata": {},
   "outputs": [],
   "source": [
    "start = timeit.default_number\n",
    "u,s,v = eigenSpaceUpdate(mat,0.3)"
   ]
  },
  {
   "cell_type": "code",
   "execution_count": null,
   "metadata": {},
   "outputs": [],
   "source": [
    "print(s)"
   ]
  },
  {
   "cell_type": "code",
   "execution_count": null,
   "metadata": {},
   "outputs": [],
   "source": [
    "k = np.dot(u,np.diag(s))\n",
    "g = np.dot(k, v)\n",
    "print(la.norm(g))"
   ]
  },
  {
   "cell_type": "code",
   "execution_count": 4,
   "metadata": {},
   "outputs": [
    {
     "name": "stdout",
     "output_type": "stream",
     "text": [
      "[[ 1. -1.]\n",
      " [ 1.  4.]\n",
      " [ 1.  4.]\n",
      " [ 1. -1.]]\n"
     ]
    }
   ],
   "source": [
    "a = np.array([[1,-1],[1,4],[1,4],[1,-1]])\n",
    "q,r = la.qr(a)\n",
    "print(q@r)"
   ]
  },
  {
   "cell_type": "code",
   "execution_count": 5,
   "metadata": {},
   "outputs": [
    {
     "name": "stdout",
     "output_type": "stream",
     "text": [
      "4.440892098500626e-16\n"
     ]
    }
   ],
   "source": [
    "print(la.norm(a-q@r,2))"
   ]
  },
  {
   "cell_type": "code",
   "execution_count": 9,
   "metadata": {},
   "outputs": [
    {
     "name": "stdout",
     "output_type": "stream",
     "text": [
      "[[-5.060179e+00 -4.165000e-03]\n",
      " [-4.165000e-03  9.051591e+00]]\n"
     ]
    }
   ],
   "source": [
    "a = np.array([[-3,-5],[-5,7]])\n",
    "b1 = np.array([[.923,-.382],[.382,.923]])\n",
    "b2 = np.transpose(b1)\n",
    "m = b2@a\n",
    "#print()\n",
    "print(m@b1)"
   ]
  },
  {
   "cell_type": "code",
   "execution_count": null,
   "metadata": {},
   "outputs": [],
   "source": []
  }
 ],
 "metadata": {
  "kernelspec": {
   "display_name": "Python 3",
   "language": "python",
   "name": "python3"
  },
  "language_info": {
   "codemirror_mode": {
    "name": "ipython",
    "version": 3
   },
   "file_extension": ".py",
   "mimetype": "text/x-python",
   "name": "python",
   "nbconvert_exporter": "python",
   "pygments_lexer": "ipython3",
   "version": "3.8.8"
  }
 },
 "nbformat": 4,
 "nbformat_minor": 2
}
